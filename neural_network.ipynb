{
 "cells": [
  {
   "cell_type": "code",
   "execution_count": 10,
   "metadata": {},
   "outputs": [],
   "source": [
    "import numpy as np\n",
    "import pandas as pd\n",
    "import matplotlib.pyplot as plt\n",
    "plt.style.use(\"ggplot\")\n",
    "%matplotlib inline\n",
    "\n",
    "from data.clean_churn_data import clean_churn_data\n",
    "\n",
    "from sklearn.model_selection import train_test_split, cross_val_score, GridSearchCV\n",
    "from sklearn.metrics import confusion_matrix\n",
    "from sklearn.preprocessing import StandardScaler\n",
    "from sklearn.pipeline import make_pipeline\n",
    "from sklearn.metrics import accuracy_score, precision_score, recall_score"
   ]
  },
  {
   "cell_type": "code",
   "execution_count": null,
   "metadata": {},
   "outputs": [],
   "source": [
    "from tensorflow import keras\n",
    "from tensorflow.keras.models import Sequential\n",
    "from tensorflow.keras.layers import Dense, Dropout, Activation\n",
    "from tensorflow.keras.optimizers import SGD\n",
    "from tensorflow.keras.metrics import Precision, Recall"
   ]
  },
  {
   "cell_type": "code",
   "execution_count": 3,
   "metadata": {},
   "outputs": [
    {
     "name": "stdout",
     "output_type": "stream",
     "text": [
      "<class 'pandas.core.frame.DataFrame'>\n",
      "Int64Index: 39681 entries, 0 to 39999\n",
      "Data columns (total 13 columns):\n",
      " #   Column                  Non-Null Count  Dtype  \n",
      "---  ------                  --------------  -----  \n",
      " 0   avg_dist                39681 non-null  float64\n",
      " 1   avg_rating_by_driver    39681 non-null  float64\n",
      " 2   avg_rating_of_driver    39681 non-null  float64\n",
      " 3   avg_surge               39681 non-null  float64\n",
      " 4   phone                   39681 non-null  int64  \n",
      " 5   surge_pct               39681 non-null  float64\n",
      " 6   trips_in_first_30_days  39681 non-null  int64  \n",
      " 7   luxury_car_user         39681 non-null  int64  \n",
      " 8   weekday_pct             39681 non-null  float64\n",
      " 9   city: Astapor           39681 non-null  int64  \n",
      " 10  city: King's Landing    39681 non-null  int64  \n",
      " 11  city: Winterfell        39681 non-null  int64  \n",
      " 12  churn?                  39681 non-null  int64  \n",
      "dtypes: float64(6), int64(7)\n",
      "memory usage: 4.2 MB\n"
     ]
    }
   ],
   "source": [
    "churn = pd.read_csv('data/churn_train.csv')\n",
    "churn = clean_churn_data(churn)\n",
    "churn.info()"
   ]
  },
  {
   "cell_type": "code",
   "execution_count": 9,
   "metadata": {},
   "outputs": [
    {
     "name": "stdout",
     "output_type": "stream",
     "text": [
      "(29760, 12) (9921, 12) (29760,) (9921,)\n"
     ]
    }
   ],
   "source": [
    "X = churn.drop(columns=['churn?']).values\n",
    "y = churn['churn?'].values\n",
    "\n",
    "X_train, X_test, y_train, y_test = train_test_split(X, y)\n",
    "print(X_train.shape, X_test.shape, y_train.shape, y_test.shape)"
   ]
  },
  {
   "cell_type": "code",
   "execution_count": null,
   "metadata": {},
   "outputs": [],
   "source": [
    "n_samples, n_feats = X_train.shape\n",
    "\n",
    "model = Sequential()\n",
    "\n",
    "hidden_units = 300\n",
    "n_classes = 10\n",
    "\n",
    "hidden_layer = Dense(units=hidden_units,\n",
    "                input_dim=n_feats,\n",
    "                kernel_initializer='constant',\n",
    "                activation='sigmoid')\n",
    "\n",
    "output_layer = Dense(units=n_classes,\n",
    "                input_dim=hidden_units,\n",
    "                kernel_initializer='uniform',\n",
    "                activation='softmax')\n",
    "\n",
    "model.add(hidden_layer)\n",
    "model.add(output_layer)\n",
    "model.add(Dropout(rate=0.5))\n",
    "\n",
    "model.compile(loss='categorical_crossentropy', \n",
    "              optimizer=\"sgd\", \n",
    "              metrics=[\"accuracy\", Precision(), Recall()] )\n",
    "\n",
    "model.fit(X_train, y_train, \n",
    "          epochs=10, \n",
    "          batch_size=5000, \n",
    "          verbose=1, \n",
    "          validation_split=0.1)"
   ]
  }
 ],
 "metadata": {
  "kernelspec": {
   "display_name": "Python (gal)",
   "language": "python",
   "name": "gal"
  },
  "language_info": {
   "codemirror_mode": {
    "name": "ipython",
    "version": 3
   },
   "file_extension": ".py",
   "mimetype": "text/x-python",
   "name": "python",
   "nbconvert_exporter": "python",
   "pygments_lexer": "ipython3",
   "version": "3.8.1"
  }
 },
 "nbformat": 4,
 "nbformat_minor": 4
}
