{
 "cells": [
  {
   "cell_type": "code",
   "execution_count": 63,
   "metadata": {},
   "outputs": [],
   "source": [
    "import pandas as pd\n",
    "import numpy as np\n",
    "import seaborn as sns\n",
    "from datetime import datetime\n",
    "import matplotlib.pyplot as plt\n",
    "\n",
    "from sklearn.tree import DecisionTreeClassifier\n",
    "from sklearn.ensemble import RandomForestClassifier\n",
    "from sklearn.metrics import log_loss, make_scorer,confusion_matrix, precision_score, recall_score\n",
    "from sklearn.model_selection import cross_val_score, GridSearchCV, train_test_split\n",
    "from sklearn.metrics import roc_curve, auc\n",
    "import sklearn.metrics as metrics\n",
    "\n",
    "plt.style.use('ggplot')\n",
    "\n",
    "import sys\n",
    "sys.path.append(\"../\")\n",
    "#from src.clean_churn_data import clean_churn_data\n",
    "from src.helper import clean_churn_data\n",
    "from src.helper import accuracy_scores\n",
    "from src.helper import plot_roc_curve\n",
    "from src.confusion_df import render_mpl_table\n",
    "from src.confusion_df import confusion_df"
   ]
  },
  {
   "cell_type": "code",
   "execution_count": 64,
   "metadata": {},
   "outputs": [],
   "source": [
    "df=pd.read_csv('../data/churn_train.csv')"
   ]
  },
  {
   "cell_type": "code",
   "execution_count": 65,
   "metadata": {},
   "outputs": [
    {
     "data": {
      "text/html": [
       "<div>\n",
       "<style scoped>\n",
       "    .dataframe tbody tr th:only-of-type {\n",
       "        vertical-align: middle;\n",
       "    }\n",
       "\n",
       "    .dataframe tbody tr th {\n",
       "        vertical-align: top;\n",
       "    }\n",
       "\n",
       "    .dataframe thead th {\n",
       "        text-align: right;\n",
       "    }\n",
       "</style>\n",
       "<table border=\"1\" class=\"dataframe\">\n",
       "  <thead>\n",
       "    <tr style=\"text-align: right;\">\n",
       "      <th></th>\n",
       "      <th>avg_dist</th>\n",
       "      <th>avg_rating_by_driver</th>\n",
       "      <th>avg_rating_of_driver</th>\n",
       "      <th>avg_surge</th>\n",
       "      <th>city</th>\n",
       "      <th>last_trip_date</th>\n",
       "      <th>phone</th>\n",
       "      <th>signup_date</th>\n",
       "      <th>surge_pct</th>\n",
       "      <th>trips_in_first_30_days</th>\n",
       "      <th>luxury_car_user</th>\n",
       "      <th>weekday_pct</th>\n",
       "    </tr>\n",
       "  </thead>\n",
       "  <tbody>\n",
       "    <tr>\n",
       "      <th>0</th>\n",
       "      <td>6.94</td>\n",
       "      <td>5.0</td>\n",
       "      <td>5.0</td>\n",
       "      <td>1.00</td>\n",
       "      <td>Astapor</td>\n",
       "      <td>2014-05-03</td>\n",
       "      <td>Android</td>\n",
       "      <td>2014-01-12</td>\n",
       "      <td>0.0</td>\n",
       "      <td>0</td>\n",
       "      <td>False</td>\n",
       "      <td>100.0</td>\n",
       "    </tr>\n",
       "    <tr>\n",
       "      <th>1</th>\n",
       "      <td>8.06</td>\n",
       "      <td>5.0</td>\n",
       "      <td>5.0</td>\n",
       "      <td>1.00</td>\n",
       "      <td>Astapor</td>\n",
       "      <td>2014-01-26</td>\n",
       "      <td>Android</td>\n",
       "      <td>2014-01-25</td>\n",
       "      <td>0.0</td>\n",
       "      <td>2</td>\n",
       "      <td>True</td>\n",
       "      <td>0.0</td>\n",
       "    </tr>\n",
       "    <tr>\n",
       "      <th>2</th>\n",
       "      <td>21.50</td>\n",
       "      <td>4.0</td>\n",
       "      <td>NaN</td>\n",
       "      <td>1.00</td>\n",
       "      <td>Winterfell</td>\n",
       "      <td>2014-05-21</td>\n",
       "      <td>iPhone</td>\n",
       "      <td>2014-01-02</td>\n",
       "      <td>0.0</td>\n",
       "      <td>1</td>\n",
       "      <td>True</td>\n",
       "      <td>100.0</td>\n",
       "    </tr>\n",
       "    <tr>\n",
       "      <th>3</th>\n",
       "      <td>9.46</td>\n",
       "      <td>5.0</td>\n",
       "      <td>NaN</td>\n",
       "      <td>2.75</td>\n",
       "      <td>Winterfell</td>\n",
       "      <td>2014-01-10</td>\n",
       "      <td>Android</td>\n",
       "      <td>2014-01-09</td>\n",
       "      <td>100.0</td>\n",
       "      <td>1</td>\n",
       "      <td>False</td>\n",
       "      <td>100.0</td>\n",
       "    </tr>\n",
       "    <tr>\n",
       "      <th>4</th>\n",
       "      <td>13.77</td>\n",
       "      <td>5.0</td>\n",
       "      <td>NaN</td>\n",
       "      <td>1.00</td>\n",
       "      <td>Winterfell</td>\n",
       "      <td>2014-05-13</td>\n",
       "      <td>iPhone</td>\n",
       "      <td>2014-01-31</td>\n",
       "      <td>0.0</td>\n",
       "      <td>0</td>\n",
       "      <td>False</td>\n",
       "      <td>100.0</td>\n",
       "    </tr>\n",
       "  </tbody>\n",
       "</table>\n",
       "</div>"
      ],
      "text/plain": [
       "   avg_dist  avg_rating_by_driver  avg_rating_of_driver  avg_surge  \\\n",
       "0      6.94                   5.0                   5.0       1.00   \n",
       "1      8.06                   5.0                   5.0       1.00   \n",
       "2     21.50                   4.0                   NaN       1.00   \n",
       "3      9.46                   5.0                   NaN       2.75   \n",
       "4     13.77                   5.0                   NaN       1.00   \n",
       "\n",
       "         city last_trip_date    phone signup_date  surge_pct  \\\n",
       "0     Astapor     2014-05-03  Android  2014-01-12        0.0   \n",
       "1     Astapor     2014-01-26  Android  2014-01-25        0.0   \n",
       "2  Winterfell     2014-05-21   iPhone  2014-01-02        0.0   \n",
       "3  Winterfell     2014-01-10  Android  2014-01-09      100.0   \n",
       "4  Winterfell     2014-05-13   iPhone  2014-01-31        0.0   \n",
       "\n",
       "   trips_in_first_30_days  luxury_car_user  weekday_pct  \n",
       "0                       0            False        100.0  \n",
       "1                       2             True          0.0  \n",
       "2                       1             True        100.0  \n",
       "3                       1            False        100.0  \n",
       "4                       0            False        100.0  "
      ]
     },
     "execution_count": 65,
     "metadata": {},
     "output_type": "execute_result"
    }
   ],
   "source": [
    "df.head()"
   ]
  },
  {
   "cell_type": "code",
   "execution_count": 66,
   "metadata": {},
   "outputs": [],
   "source": [
    "df=clean_churn_data(df)"
   ]
  },
  {
   "cell_type": "code",
   "execution_count": 67,
   "metadata": {},
   "outputs": [
    {
     "data": {
      "text/html": [
       "<div>\n",
       "<style scoped>\n",
       "    .dataframe tbody tr th:only-of-type {\n",
       "        vertical-align: middle;\n",
       "    }\n",
       "\n",
       "    .dataframe tbody tr th {\n",
       "        vertical-align: top;\n",
       "    }\n",
       "\n",
       "    .dataframe thead th {\n",
       "        text-align: right;\n",
       "    }\n",
       "</style>\n",
       "<table border=\"1\" class=\"dataframe\">\n",
       "  <thead>\n",
       "    <tr style=\"text-align: right;\">\n",
       "      <th></th>\n",
       "      <th>avg_dist</th>\n",
       "      <th>avg_rating_by_driver</th>\n",
       "      <th>avg_rating_of_driver</th>\n",
       "      <th>avg_surge</th>\n",
       "      <th>phone</th>\n",
       "      <th>surge_pct</th>\n",
       "      <th>trips_in_first_30_days</th>\n",
       "      <th>luxury_car_user</th>\n",
       "      <th>weekday_pct</th>\n",
       "      <th>city: Astapor</th>\n",
       "      <th>city: King's Landing</th>\n",
       "      <th>city: Winterfell</th>\n",
       "      <th>churn?</th>\n",
       "    </tr>\n",
       "  </thead>\n",
       "  <tbody>\n",
       "    <tr>\n",
       "      <th>0</th>\n",
       "      <td>6.94</td>\n",
       "      <td>5.0</td>\n",
       "      <td>5.000000</td>\n",
       "      <td>1.00</td>\n",
       "      <td>0</td>\n",
       "      <td>0.0</td>\n",
       "      <td>0</td>\n",
       "      <td>0</td>\n",
       "      <td>100.0</td>\n",
       "      <td>1</td>\n",
       "      <td>0</td>\n",
       "      <td>0</td>\n",
       "      <td>1</td>\n",
       "    </tr>\n",
       "    <tr>\n",
       "      <th>1</th>\n",
       "      <td>8.06</td>\n",
       "      <td>5.0</td>\n",
       "      <td>5.000000</td>\n",
       "      <td>1.00</td>\n",
       "      <td>0</td>\n",
       "      <td>0.0</td>\n",
       "      <td>2</td>\n",
       "      <td>1</td>\n",
       "      <td>0.0</td>\n",
       "      <td>1</td>\n",
       "      <td>0</td>\n",
       "      <td>0</td>\n",
       "      <td>1</td>\n",
       "    </tr>\n",
       "    <tr>\n",
       "      <th>2</th>\n",
       "      <td>21.50</td>\n",
       "      <td>4.0</td>\n",
       "      <td>4.601697</td>\n",
       "      <td>1.00</td>\n",
       "      <td>1</td>\n",
       "      <td>0.0</td>\n",
       "      <td>1</td>\n",
       "      <td>1</td>\n",
       "      <td>100.0</td>\n",
       "      <td>0</td>\n",
       "      <td>0</td>\n",
       "      <td>1</td>\n",
       "      <td>1</td>\n",
       "    </tr>\n",
       "    <tr>\n",
       "      <th>3</th>\n",
       "      <td>9.46</td>\n",
       "      <td>5.0</td>\n",
       "      <td>4.601697</td>\n",
       "      <td>2.75</td>\n",
       "      <td>0</td>\n",
       "      <td>100.0</td>\n",
       "      <td>1</td>\n",
       "      <td>0</td>\n",
       "      <td>100.0</td>\n",
       "      <td>0</td>\n",
       "      <td>0</td>\n",
       "      <td>1</td>\n",
       "      <td>1</td>\n",
       "    </tr>\n",
       "    <tr>\n",
       "      <th>4</th>\n",
       "      <td>13.77</td>\n",
       "      <td>5.0</td>\n",
       "      <td>4.601697</td>\n",
       "      <td>1.00</td>\n",
       "      <td>1</td>\n",
       "      <td>0.0</td>\n",
       "      <td>0</td>\n",
       "      <td>0</td>\n",
       "      <td>100.0</td>\n",
       "      <td>0</td>\n",
       "      <td>0</td>\n",
       "      <td>1</td>\n",
       "      <td>1</td>\n",
       "    </tr>\n",
       "  </tbody>\n",
       "</table>\n",
       "</div>"
      ],
      "text/plain": [
       "   avg_dist  avg_rating_by_driver  avg_rating_of_driver  avg_surge  phone  \\\n",
       "0      6.94                   5.0              5.000000       1.00      0   \n",
       "1      8.06                   5.0              5.000000       1.00      0   \n",
       "2     21.50                   4.0              4.601697       1.00      1   \n",
       "3      9.46                   5.0              4.601697       2.75      0   \n",
       "4     13.77                   5.0              4.601697       1.00      1   \n",
       "\n",
       "   surge_pct  trips_in_first_30_days  luxury_car_user  weekday_pct  \\\n",
       "0        0.0                       0                0        100.0   \n",
       "1        0.0                       2                1          0.0   \n",
       "2        0.0                       1                1        100.0   \n",
       "3      100.0                       1                0        100.0   \n",
       "4        0.0                       0                0        100.0   \n",
       "\n",
       "   city: Astapor  city: King's Landing  city: Winterfell  churn?  \n",
       "0              1                     0                 0       1  \n",
       "1              1                     0                 0       1  \n",
       "2              0                     0                 1       1  \n",
       "3              0                     0                 1       1  \n",
       "4              0                     0                 1       1  "
      ]
     },
     "execution_count": 67,
     "metadata": {},
     "output_type": "execute_result"
    }
   ],
   "source": [
    "df.head()"
   ]
  },
  {
   "cell_type": "code",
   "execution_count": 68,
   "metadata": {},
   "outputs": [],
   "source": [
    "y = df['churn?']"
   ]
  },
  {
   "cell_type": "code",
   "execution_count": 69,
   "metadata": {},
   "outputs": [],
   "source": [
    "X = df.drop('churn?',axis=1)"
   ]
  },
  {
   "cell_type": "code",
   "execution_count": 70,
   "metadata": {},
   "outputs": [],
   "source": [
    "X_train, X_test, y_train, y_test = train_test_split(X, y, test_size=0.25)"
   ]
  },
  {
   "cell_type": "code",
   "execution_count": 71,
   "metadata": {},
   "outputs": [],
   "source": [
    "# Train and fit model                                                   \n",
    "rf = RandomForestClassifier()\n",
    "model = rf.fit(X_train, y_train)\n",
    "                                     \n",
    "# Test Prediction\n",
    "pred = rf.predict(X_test)"
   ]
  },
  {
   "cell_type": "code",
   "execution_count": 72,
   "metadata": {},
   "outputs": [
    {
     "name": "stdout",
     "output_type": "stream",
     "text": [
      "log loss : 1.7302819334915258\n",
      "accuracy : 0.743574236468098\n",
      "confusion matrix : \n",
      "[[2595 1174]\n",
      " [1370 4782]]\n",
      "precision : 0.802887844190732\n",
      "recall (probability of detection): 0.7773081924577373\n"
     ]
    }
   ],
   "source": [
    "print(f\"log loss : {log_loss(y_test, rf.predict_proba(X_test)[:, 1])}\")\n",
    "print(f\"accuracy : {rf.score(X_test, y_test)}\")\n",
    "print(f\"confusion matrix : \\n{confusion_matrix(y_test, pred)}\")\n",
    "\n",
    "print(\"precision :\", precision_score(y_test, pred))\n",
    "print(\"recall (probability of detection):\", recall_score(y_test, pred))"
   ]
  },
  {
   "cell_type": "code",
   "execution_count": 73,
   "metadata": {},
   "outputs": [],
   "source": [
    "data=confusion_df(y_test, pred)\n"
   ]
  },
  {
   "cell_type": "code",
   "execution_count": 74,
   "metadata": {},
   "outputs": [
    {
     "data": {
      "text/plain": [
       "(<Figure size 576x135 with 1 Axes>,\n",
       " <matplotlib.axes._subplots.AxesSubplot at 0x1a25698810>)"
      ]
     },
     "execution_count": 74,
     "metadata": {},
     "output_type": "execute_result"
    },
    {
     "data": {
      "image/png": "[encoded data removed]",
      "text/plain": [
       "<Figure size 576x135 with 1 Axes>"
      ]
     },
     "metadata": {},
     "output_type": "display_data"
    }
   ],
   "source": [
    "render_mpl_table(data)"
   ]
  },
  {
   "cell_type": "code",
   "execution_count": 75,
   "metadata": {},
   "outputs": [
    {
     "data": {
      "text/plain": [
       "<Figure size 432x288 with 0 Axes>"
      ]
     },
     "metadata": {},
     "output_type": "display_data"
    }
   ],
   "source": [
    "plt.savefig('../img/rf_cm1.png', bbox_inches='tight')"
   ]
  },
  {
   "cell_type": "code",
   "execution_count": 76,
   "metadata": {},
   "outputs": [
    {
     "data": {
      "text/plain": [
       "(0.744, 0.777, 0.803, 0.256)"
      ]
     },
     "execution_count": 76,
     "metadata": {},
     "output_type": "execute_result"
    }
   ],
   "source": [
    "accuracy_scores(y_test, pred)"
   ]
  },
  {
   "cell_type": "markdown",
   "metadata": {},
   "source": [
    "#### Model evaluated on the basis of log loss, accuracy, precision, recall, and the confusion matrix as defined below.\n",
    "#### log loss = -(ylog p) + (1-y)*log (1-p))\n",
    "\n",
    "\n",
    "\n",
    "#### Confusion matrix:\n",
    "\n",
    "<img src=\"../img/confusion_matrix.png\" width=\"150\">\n",
    "\n",
    "True Positive (TP) : Observation is positive, and is predicted to be positive. <br>\n",
    "False Negative (FN) : Observation is positive, but is predicted negative. <br>\n",
    "True Negative (TN) : Observation is negative, and is predicted to be negative. <br>\n",
    "False Positive (FP) : Observation is negative, but is predicted positive. <br>\n",
    "\n",
    "#### Precision & Recall\n",
    "<img src=\"../img/precision-recall.png\" width=\"150\">\n",
    "https://en.wikipedia.org/wiki/Precision_and_recall#/media/File:Precisionrecall.svg"
   ]
  },
  {
   "cell_type": "code",
   "execution_count": 77,
   "metadata": {},
   "outputs": [
    {
     "name": "stdout",
     "output_type": "stream",
     "text": [
      "top five: ['avg_dist', 'weekday_pct', 'avg_rating_by_driver', 'surge_pct', 'avg_rating_of_driver']\n"
     ]
    }
   ],
   "source": [
    "# get the feature importances\n",
    "feature_importances = np.argsort(rf.feature_importances_)\n",
    "print(\"top five:\", list(df.columns[feature_importances[-1:-6:-1]]))"
   ]
  },
  {
   "cell_type": "code",
   "execution_count": 78,
   "metadata": {},
   "outputs": [
    {
     "name": "stdout",
     "output_type": "stream",
     "text": [
      "\n",
      " Feature ranking: \n",
      "\n",
      "1. avg_dist (0.292354)\n",
      "2. weekday_pct (0.130934)\n",
      "3. avg_rating_by_driver (0.113523)\n",
      "4. surge_pct (0.088063)\n",
      "5. avg_rating_of_driver (0.080085)\n",
      "6. trips_in_first_30_days (0.077328)\n",
      "7. avg_surge (0.068195)\n",
      "8. phone (0.037446)\n",
      "9. luxury_car_user (0.035684)\n",
      "10. city: Astapor (0.019597)\n"
     ]
    },
    {
     "data": {
      "text/plain": [
       "Text(0.5, 1.0, 'Feature Importances')"
      ]
     },
     "execution_count": 78,
     "metadata": {},
     "output_type": "execute_result"
    },
    {
     "data": {
      "image/png": "[encoded data removed]",
      "text/plain": [
       "<Figure size 432x288 with 1 Axes>"
      ]
     },
     "metadata": {},
     "output_type": "display_data"
    }
   ],
   "source": [
    "# Calculate the standard deviation for feature importances across all trees\n",
    "\n",
    "n = 10 # top 10 features\n",
    "\n",
    "#importances = forest_fit.feature_importances_[:n]\n",
    "importances = rf.feature_importances_[:n]\n",
    "std = np.std([tree.feature_importances_ for tree in rf.estimators_],\n",
    "             axis=0)\n",
    "indices = np.argsort(importances)[::-1]\n",
    "features = list(df.columns[indices])\n",
    "\n",
    "# Print the feature ranking\n",
    "print(\"\\n Feature ranking: \\n\")\n",
    "\n",
    "for f in range(n):\n",
    "    print(\"%d. %s (%f)\" % (f + 1, features[f], importances[indices[f]]))\n",
    "\n",
    "# Plot the feature importances of the forest\n",
    "fig, ax = plt.subplots()\n",
    "\n",
    "ax.bar(range(10), importances[indices], yerr=std[indices], color=\"r\", align=\"center\")\n",
    "ax.set_xticks(range(10))\n",
    "ax.set_xticklabels(features, rotation = 90)\n",
    "ax.set_xlim([-1, 10])\n",
    "ax.set_xlabel(\"importance\")\n",
    "ax.set_title(\"Feature Importances\")"
   ]
  },
  {
   "cell_type": "code",
   "execution_count": 79,
   "metadata": {},
   "outputs": [
    {
     "data": {
      "image/png": "[encoded data removed]",
      "text/plain": [
       "<Figure size 432x288 with 1 Axes>"
      ]
     },
     "metadata": {},
     "output_type": "display_data"
    }
   ],
   "source": [
    "\n",
    "# calculate the fpr and tpr for all thresholds of the classification\n",
    "probs = model.predict_proba(X_test)\n",
    "preds = probs[:,1]\n",
    "fpr, tpr, threshold = metrics.roc_curve(y_test, preds)\n",
    "roc_auc = metrics.auc(fpr, tpr)\n",
    "\n",
    "\n",
    "plt.title('Receiver Operating Characteristic')\n",
    "plt.plot(fpr, tpr, 'b', label = 'AUC = %0.2f' % roc_auc)\n",
    "plt.legend(loc = 'lower right')\n",
    "plt.plot([0, 1], [0, 1],'r--')\n",
    "plt.xlim([0, 1])\n",
    "plt.ylim([0, 1])\n",
    "plt.ylabel('True Positive Rate')\n",
    "plt.xlabel('False Positive Rate')\n",
    "plt.show()"
   ]
  },
  {
   "cell_type": "code",
   "execution_count": 80,
   "metadata": {},
   "outputs": [
    {
     "name": "stdout",
     "output_type": "stream",
     "text": [
      "\n",
      "11: accuracy score: 0.7537546618284447\n",
      "    out of bag score: 0.7603494623655914\n"
     ]
    }
   ],
   "source": [
    "# Building the RandomForestClassifier again setting the out of bag parameter to be true\n",
    "rf2 = RandomForestClassifier(n_estimators=1000, oob_score=True)\n",
    "rf2.fit(X_train, y_train)\n",
    "print(\"\\n11: accuracy score:\", rf2.score(X_test, y_test))\n",
    "print(\"    out of bag score:\", rf2.oob_score_)"
   ]
  },
  {
   "cell_type": "code",
   "execution_count": 81,
   "metadata": {},
   "outputs": [
    {
     "data": {
      "text/plain": [
       "Text(0.5, 1.0, 'Accuracy vs Num Trees')"
      ]
     },
     "execution_count": 81,
     "metadata": {},
     "output_type": "execute_result"
    },
    {
     "data": {
      "image/png": "[encoded data removed]",
      "text/plain": [
       "<Figure size 432x288 with 1 Axes>"
      ]
     },
     "metadata": {},
     "output_type": "display_data"
    }
   ],
   "source": [
    "# modifying the number of trees\n",
    "num_trees = range(1, 100, 10)\n",
    "accuracies = []\n",
    "for n in num_trees:\n",
    "    tot = 0\n",
    "    for i in range(5):\n",
    "        rf = RandomForestClassifier(n_estimators=n)\n",
    "        rf.fit(X_train, y_train)\n",
    "        tot += rf.score(X_test, y_test)\n",
    "    accuracies.append(tot / 5)\n",
    "fig, ax = plt.subplots()\n",
    "ax.plot(num_trees, accuracies)\n",
    "ax.set_xlabel(\"Number of Trees\")\n",
    "ax.set_ylabel(\"Accuracy\")\n",
    "ax.set_title('Accuracy vs Num Trees')\n",
    "\n",
    "#max values starting from n_estimators=40 trees"
   ]
  },
  {
   "cell_type": "code",
   "execution_count": 82,
   "metadata": {},
   "outputs": [
    {
     "data": {
      "image/png": "[encoded data removed]",
      "text/plain": [
       "<Figure size 432x288 with 1 Axes>"
      ]
     },
     "metadata": {},
     "output_type": "display_data"
    }
   ],
   "source": [
    "# modifying the max features parameter\n",
    "\n",
    "# import warnings filter\n",
    "from warnings import simplefilter\n",
    "# ignore all future warnings\n",
    "simplefilter(action='ignore', category=FutureWarning)\n",
    "\n",
    "num_features = range(1, len(df.columns))\n",
    "accuracies = []\n",
    "for n in num_features:\n",
    "    tot = 0\n",
    "    for i in range(5):\n",
    "        rf = RandomForestClassifier(max_features=n)\n",
    "        rf.fit(X_train, y_train)\n",
    "        tot += rf.score(X_test, y_test)\n",
    "    accuracies.append(tot / 5)\n",
    "fig, ax = plt.subplots()\n",
    "ax.plot(num_features, accuracies)\n",
    "ax.set_xlabel(\"Number of Features\")\n",
    "ax.set_ylabel(\"Accuracy\")\n",
    "ax.set_title('Accuracy vs Num Features');\n",
    "\n",
    "# maximum at 5 and 9 features"
   ]
  },
  {
   "cell_type": "code",
   "execution_count": 83,
   "metadata": {},
   "outputs": [
    {
     "data": {
      "image/png": "[encoded data removed]",
      "text/plain": [
       "<Figure size 432x288 with 1 Axes>"
      ]
     },
     "metadata": {},
     "output_type": "display_data"
    }
   ],
   "source": [
    "# modifying the max_depth\n",
    "\n",
    "# import warnings filter\n",
    "from warnings import simplefilter\n",
    "# ignore all future warnings\n",
    "simplefilter(action='ignore', category=FutureWarning)\n",
    "\n",
    "num_features = range(1, len(df.columns))\n",
    "accuracies = []\n",
    "for n in num_features:\n",
    "    tot = 0\n",
    "    for i in range(5):\n",
    "        rf = RandomForestClassifier(max_depth=n)\n",
    "        rf.fit(X_train, y_train)\n",
    "        tot += rf.score(X_test, y_test)\n",
    "    accuracies.append(tot / 5)\n",
    "fig, ax = plt.subplots()\n",
    "ax.plot(num_features, accuracies)\n",
    "ax.set_xlabel(\"max depth\")\n",
    "ax.set_ylabel(\"Accuracy\")\n",
    "ax.set_title('Accuracy vs max depth');\n",
    "\n",
    "# maximum at max_depth of 10"
   ]
  },
  {
   "cell_type": "code",
   "execution_count": 84,
   "metadata": {},
   "outputs": [
    {
     "name": "stdout",
     "output_type": "stream",
     "text": [
      "log loss : 0.46761408542088767\n",
      "accuracy : 0.7781473641769983\n",
      "confusion matrix : \n",
      "[[2457 1312]\n",
      " [ 889 5263]]\n",
      "precision : 0.8004562737642585\n",
      "recall (probability of detection): 0.8554941482444733\n"
     ]
    }
   ],
   "source": [
    "# Train and fit model (max_depth=10)                                                  \n",
    "rf = RandomForestClassifier(n_estimators=40,\n",
    "                           max_features=5,\n",
    "                           max_depth=10,\n",
    "                            random_state=0)\n",
    "model = rf.fit(X_train, y_train)\n",
    "                                     \n",
    "# Test Prediction\n",
    "pred = rf.predict(X_test)\n",
    "print(f\"log loss : {log_loss(y_test, rf.predict_proba(X_test)[:, 1])}\")\n",
    "print(f\"accuracy : {rf.score(X_test, y_test)}\")\n",
    "print(f\"confusion matrix : \\n{confusion_matrix(y_test, pred)}\")\n",
    "\n",
    "print(\"precision :\", precision_score(y_test, pred))\n",
    "print(\"recall (probability of detection):\", recall_score(y_test, pred))"
   ]
  },
  {
   "cell_type": "code",
   "execution_count": 85,
   "metadata": {},
   "outputs": [],
   "source": [
    "np.savetxt('../data/rf_y_hat.txt', preds)\n",
    "np.savetxt('../data/rf_y_test.txt', y_test)"
   ]
  },
  {
   "cell_type": "code",
   "execution_count": 86,
   "metadata": {},
   "outputs": [
    {
     "data": {
      "image/png": "[encoded data removed]",
      "text/plain": [
       "<Figure size 432x288 with 1 Axes>"
      ]
     },
     "metadata": {},
     "output_type": "display_data"
    }
   ],
   "source": [
    "\n",
    "# calculate the fpr and tpr for all thresholds of the classification\n",
    "probs = model.predict_proba(X_test)\n",
    "preds = probs[:,1]\n",
    "fpr, tpr, threshold = metrics.roc_curve(y_test, preds)\n",
    "roc_auc = metrics.auc(fpr, tpr)\n",
    "\n",
    "\n",
    "plt.title('Receiver Operating Characteristic')\n",
    "plt.plot(fpr, tpr, 'b', label = 'AUC = %0.2f' % roc_auc)\n",
    "plt.legend(loc = 'lower right')\n",
    "plt.plot([0, 1], [0, 1],'r--')\n",
    "plt.xlim([0, 1])\n",
    "plt.ylim([0, 1])\n",
    "plt.ylabel('True Positive Rate')\n",
    "plt.xlabel('False Positive Rate')\n",
    "plt.show()"
   ]
  },
  {
   "cell_type": "code",
   "execution_count": 87,
   "metadata": {},
   "outputs": [],
   "source": [
    "#pd.plotting.scatter_matrix(df);"
   ]
  },
  {
   "cell_type": "code",
   "execution_count": 88,
   "metadata": {},
   "outputs": [],
   "source": [
    "#df2['last_trip_date']=pd.to_datetime(df2['last_trip_date'])"
   ]
  },
  {
   "cell_type": "code",
   "execution_count": 89,
   "metadata": {},
   "outputs": [
    {
     "data": {
      "text/plain": [
       "\"\\nstart_date = '2014-06-01'\\nend_date = '2014-07-01'\\nmask = (df2['last_trip_date'] > start_date) & (df2['last_trip_date'] <= end_date)\\ndf2 = df2.loc[mask]\\ndf2\\n\""
      ]
     },
     "execution_count": 89,
     "metadata": {},
     "output_type": "execute_result"
    }
   ],
   "source": [
    "'''\n",
    "start_date = '2014-06-01'\n",
    "end_date = '2014-07-01'\n",
    "mask = (df2['last_trip_date'] > start_date) & (df2['last_trip_date'] <= end_date)\n",
    "df2 = df2.loc[mask]\n",
    "df2\n",
    "'''"
   ]
  },
  {
   "cell_type": "code",
   "execution_count": 90,
   "metadata": {},
   "outputs": [
    {
     "data": {
      "image/png": "[encoded data removed]",
      "text/plain": [
       "<Figure size 432x288 with 1 Axes>"
      ]
     },
     "metadata": {},
     "output_type": "display_data"
    }
   ],
   "source": [
    "fig,ax = plt.subplots()\n",
    "def plot(col):\n",
    "    for i in col:\n",
    "        ax.scatter(df[col],df['churn?'])\n",
    "        ax.set_xlabel(i)\n",
    "        ax.set_ylabel('churn?')\n",
    "    pass\n",
    "\n",
    "#col=['avg_dist','avg_rating_by_driver','avg_rating_of_driver','avg_surge','city','last_trip_date','phone',\n",
    "    #'surge_pct','trips_in_first_30_days','luxury_car_user','weekday_pct']\n",
    "col=['avg_rating_of_driver']\n",
    "plot(col)\n",
    "                 \n",
    "   "
   ]
  },
  {
   "cell_type": "code",
   "execution_count": null,
   "metadata": {},
   "outputs": [],
   "source": []
  },
  {
   "cell_type": "code",
   "execution_count": 91,
   "metadata": {},
   "outputs": [
    {
     "name": "stdout",
     "output_type": "stream",
     "text": [
      "<class 'pandas.core.frame.DataFrame'>\n",
      "Int64Index: 39681 entries, 0 to 39999\n",
      "Data columns (total 13 columns):\n",
      "avg_dist                  39681 non-null float64\n",
      "avg_rating_by_driver      39681 non-null float64\n",
      "avg_rating_of_driver      39681 non-null float64\n",
      "avg_surge                 39681 non-null float64\n",
      "phone                     39681 non-null int64\n",
      "surge_pct                 39681 non-null float64\n",
      "trips_in_first_30_days    39681 non-null int64\n",
      "luxury_car_user           39681 non-null int64\n",
      "weekday_pct               39681 non-null float64\n",
      "city: Astapor             39681 non-null int64\n",
      "city: King's Landing      39681 non-null int64\n",
      "city: Winterfell          39681 non-null int64\n",
      "churn?                    39681 non-null int64\n",
      "dtypes: float64(6), int64(7)\n",
      "memory usage: 4.2 MB\n"
     ]
    }
   ],
   "source": [
    "df.info()"
   ]
  },
  {
   "cell_type": "code",
   "execution_count": null,
   "metadata": {},
   "outputs": [],
   "source": []
  },
  {
   "cell_type": "code",
   "execution_count": null,
   "metadata": {},
   "outputs": [],
   "source": []
  },
  {
   "cell_type": "code",
   "execution_count": null,
   "metadata": {},
   "outputs": [],
   "source": []
  },
  {
   "cell_type": "code",
   "execution_count": null,
   "metadata": {},
   "outputs": [],
   "source": []
  },
  {
   "cell_type": "code",
   "execution_count": null,
   "metadata": {},
   "outputs": [],
   "source": []
  },
  {
   "cell_type": "code",
   "execution_count": null,
   "metadata": {},
   "outputs": [],
   "source": []
  },
  {
   "cell_type": "code",
   "execution_count": null,
   "metadata": {},
   "outputs": [],
   "source": []
  }
 ],
 "metadata": {
  "kernelspec": {
   "display_name": "Python 3",
   "language": "python",
   "name": "python3"
  },
  "language_info": {
   "codemirror_mode": {
    "name": "ipython",
    "version": 3
   },
   "file_extension": ".py",
   "mimetype": "text/x-python",
   "name": "python",
   "nbconvert_exporter": "python",
   "pygments_lexer": "ipython3",
   "version": "3.7.4"
  }
 },
 "nbformat": 4,
 "nbformat_minor": 4
}
